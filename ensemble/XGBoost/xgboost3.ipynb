{
 "cells": [
  {
   "cell_type": "markdown",
   "metadata": {},
   "source": [
    "[toc]\n",
    "\n",
    "# ML 学习笔记-7-XGBoost-3 Python 实战-1 BaseLearner的实现"
   ]
  },
  {
   "cell_type": "markdown",
   "metadata": {},
   "source": [
    "说了这么多，还是来进行 XGBoost 实战吧。"
   ]
  },
  {
   "cell_type": "markdown",
   "metadata": {},
   "source": [
    "## Base Learner 类\n",
    "\n",
    "上一篇 Blog 中有提到，XGBoost 实际上定义了一个新类似于 CART 的 base learner。因此，我们第一件事就是实现这个 Base Learner\n"
   ]
  },
  {
   "attachments": {},
   "cell_type": "markdown",
   "metadata": {
    "ExecuteTime": {
     "end_time": "2020-07-07T07:22:58.962206Z",
     "start_time": "2020-07-07T07:22:58.956824Z"
    }
   },
   "source": [
    "这个 Base Learner 的几个要素如下\n",
    "\n",
    "1. 如何分裂结点：\n",
    "    1. 损失函数是什么？\n",
    "    根据 XGBoost 的原论文，根据下式来进行节点分裂。\n",
    "        $$\n",
    "        L_{s p l i t}= \\frac{1}{2}\\left[\\frac{G_{L}^{2}}{H_{L}+\\lambda}+\\frac{G_{R}^{2}}{H_{R}+\\lambda}-\\frac{G_{I}^{2}}{H_{I}+\\lambda}\\right]-\\gamma\n",
    "        $$\n",
    "    由于 $\\gamma$ 是一个常数，因此可以省略。1 / 2 也是常数，省略它也不会影响最优分割点的选择。\n",
    "    \n",
    "    因此，可以定义某个节点上的损失为 \n",
    "    $$\n",
    "    loss = - \\frac{G_I^2}{H_I + \\lambda}\n",
    "    $$\n",
    "    2. 和 CART 树相同的二分递归分裂。实际上， XGBoost 的 base learner 的分裂算法有两种，一个是 exact greedy algorithm，这个就是 CART 中分裂节点的算法；另一种是 approximate greedy algorithm，这个实际上是 extract greedy algorithm 的一个分桶版本，之所以分桶是因为可以将一个桶中的样本当作一个整体去计算，因此会降低计算复杂度。这里，我们只实现比较简单的 exact greedy algorithm.\n",
    "2. 对于任意一个节点 I 的输出由下式给出：\n",
    "$$\n",
    "w = -\\frac{G_I}{H_I+\\lambda}\n",
    "$$"
   ]
  },
  {
   "cell_type": "markdown",
   "metadata": {},
   "source": [
    "## 损失函数类"
   ]
  },
  {
   "cell_type": "markdown",
   "metadata": {
    "ExecuteTime": {
     "end_time": "2020-07-07T07:36:25.778535Z",
     "start_time": "2020-07-07T07:36:25.774135Z"
    }
   },
   "source": [
    "和 GBDT 一样，XGBoost 可以自定义损失函数，并且需要使用损失函数的一阶、二阶信息，因此先定义好一个可以计算一阶、二阶信息的损失函数\n",
    "\n",
    "我们定义一个损失函数的类，然后继承这个类"
   ]
  },
  {
   "cell_type": "code",
   "execution_count": 1,
   "metadata": {
    "ExecuteTime": {
     "end_time": "2020-07-08T07:17:51.854757Z",
     "start_time": "2020-07-08T07:17:51.567744Z"
    }
   },
   "outputs": [],
   "source": [
    "import numpy as np\n",
    "from matplotlib import pyplot as plt\n",
    "class Loss:\n",
    "    def predict(self, y, yhat):\n",
    "        pass\n",
    "\n",
    "    def gradient(self, y, yhat):\n",
    "        pass\n",
    "\n",
    "    def hessian(self, y, yhat):\n",
    "        pass\n",
    "\n",
    "    def __call__(self, y, yhat):\n",
    "        return self.predict(y, yhat)"
   ]
  },
  {
   "cell_type": "code",
   "execution_count": 2,
   "metadata": {
    "ExecuteTime": {
     "end_time": "2020-07-08T07:17:51.860885Z",
     "start_time": "2020-07-08T07:17:51.856412Z"
    }
   },
   "outputs": [],
   "source": [
    "class MSE(Loss):\n",
    "    def predict(self, y, yhat):\n",
    "        return 0.5 * np.mean((y - yhat) ** 2)\n",
    "\n",
    "    def gradient(self, y, yhat):\n",
    "        return (yhat - y) / y.shape[0]\n",
    "\n",
    "    def hessian(self, y, yhat):\n",
    "        return np.ones_like(y) / y.shape[0]"
   ]
  },
  {
   "cell_type": "markdown",
   "metadata": {},
   "source": [
    "## 结点类"
   ]
  },
  {
   "cell_type": "code",
   "execution_count": 3,
   "metadata": {
    "ExecuteTime": {
     "end_time": "2020-07-08T07:17:51.866858Z",
     "start_time": "2020-07-08T07:17:51.862469Z"
    }
   },
   "outputs": [],
   "source": [
    "class TreeNode:\n",
    "    def __init__(self, split_feat_idx =None,  split_feat_val=None, left=None, right=None, depth=None, output=None):\n",
    "        self.split_feat_idx = split_feat_idx\n",
    "        self.split_feat_val = split_feat_val\n",
    "        self.output = output\n",
    "        self.depth = depth\n",
    "        self.left = left\n",
    "        self.right = right\n",
    "        \n",
    "    # 定义一个 __str__ 便于 print\n",
    "    def __str__(self):\n",
    "        return f\"\"\"{{\n",
    "            depth: {self.depth} output: {self.output} split_feat_idx: {self.split_feat_idx} split_feat_val: {self.split_feat_val}\n",
    "            left: {self.left}\n",
    "            right: {self.right}}}\"\"\""
   ]
  },
  {
   "cell_type": "code",
   "execution_count": 4,
   "metadata": {
    "ExecuteTime": {
     "end_time": "2020-07-08T07:17:51.892239Z",
     "start_time": "2020-07-08T07:17:51.868659Z"
    }
   },
   "outputs": [],
   "source": [
    "\n",
    "class XGBoostBaseLearner:\n",
    "    def __init__(self, lambda_=0, gamma=0, max_depth=10, min_err_decrease=1e-5, min_samples_split=2):\n",
    "        self.loss = MSE()\n",
    "        self.lambda_ = lambda_\n",
    "        self.gamma = gamma\n",
    "        self.tree = None\n",
    "        self.max_depth = max_depth\n",
    "        self.min_err_decrease = min_err_decrease\n",
    "        self.min_samples_split = min_samples_split\n",
    "        self.cached_data = None\n",
    "        self.depth = 0 # 回归树的深度\n",
    "\n",
    "    def split(self, data, split_feat_idx, split_sample_idx):\n",
    "        split_idx = list(data['features'][split_feat_idx]).index(split_sample_idx)\n",
    "\n",
    "        left_data, right_data = {'features': {}}, {'features': {}}\n",
    "\n",
    "        left_data['sample_idx'] = data['features'][split_feat_idx][:split_idx+1]\n",
    "        right_data['sample_idx'] = data['features'][split_feat_idx][split_idx+1:]\n",
    "\n",
    "        left_data['n_samples'] = left_data['sample_idx'].shape[0]\n",
    "        right_data['n_samples'] = right_data['sample_idx'].shape[0]\n",
    "\n",
    "        left_data['n_features'] = right_data['n_features'] = data['n_features']\n",
    "\n",
    "        for feat_idx in data['features']:\n",
    "            mask = np.isin(data['features'][feat_idx], left_data['sample_idx'])\n",
    "            left_data['features'][feat_idx] = data['features'][feat_idx][mask]\n",
    "            right_data['features'][feat_idx] = data['features'][feat_idx][~mask]\n",
    "\n",
    "        return left_data, right_data\n",
    "\n",
    "    def choose_best_split_feature(self, data):\n",
    "        sample_indices  = data['sample_idx']\n",
    "        n_samples, n_features = data['n_samples'], data['n_features']\n",
    "        best_err_decrease = -float(\"inf\")\n",
    "        best_split_feat_idx = None\n",
    "        best_split_sample_idx= None\n",
    "\n",
    "        G_I = np.sum(self.cached_data['gradient'][sample_indices])\n",
    "        H_I = np.sum(self.cached_data['hessian'][sample_indices])\n",
    "        loss_before_split =  - G_I**2 / (H_I + self.lambda_)\n",
    "\n",
    "        for feat_idx in range(n_features):\n",
    "            G_L, G_R = 0, G_I\n",
    "            H_L, H_R = 0, H_I\n",
    "            for sample_j in data['features'][feat_idx][:-1]:\n",
    "                G_L += self.cached_data['gradient'][sample_j]\n",
    "                G_R -= self.cached_data['gradient'][sample_j]\n",
    "\n",
    "                H_L +=  self.cached_data['hessian'][sample_j]\n",
    "                H_R -=  self.cached_data['hessian'][sample_j]\n",
    "                loss_L =  - G_L ** 2 / (H_L + self.lambda_)\n",
    "                loss_R =   - G_R ** 2 / (H_R + self.lambda_)\n",
    "                err_decrease = loss_before_split - (loss_L + loss_R) + 2 * self.gamma\n",
    "                if err_decrease > best_err_decrease:\n",
    "                    best_err_decrease = err_decrease\n",
    "                    best_split_feat_idx = feat_idx\n",
    "                    best_split_sample_idx = sample_j\n",
    "\n",
    "        return best_split_feat_idx, best_split_sample_idx, best_err_decrease\n",
    "\n",
    "    def create_tree(self, data, depth=1):\n",
    "        root = TreeNode(depth=depth)\n",
    "        # 节点对应的样本数过少或者树的深度过深\n",
    "        if data['n_samples'] < self.min_samples_split or depth > self.max_depth:\n",
    "            root.output = self.compute_output(data)\n",
    "            self.depth = max(self.depth, depth)\n",
    "            return root\n",
    "\n",
    "        split_feat_idx, split_sample_idx, best_err_decrease = self.choose_best_split_feature(data)\n",
    "        # 节点的 loss 减少过小\n",
    "        if best_err_decrease < self.min_err_decrease:\n",
    "            root.output = self.compute_output(data)\n",
    "            self.depth = max(self.depth, depth)\n",
    "            return root\n",
    "\n",
    "        root.split_feat_idx = split_feat_idx\n",
    "        root.split_feat_val = self.cached_data['X'][split_sample_idx, split_feat_idx]\n",
    "\n",
    "        left_data, right_data =  self.split(data, split_feat_idx, split_sample_idx)\n",
    "        root.left = self.create_tree(left_data, depth=depth + 1)\n",
    "        root.right = self.create_tree(right_data, depth=depth + 1)\n",
    "        return root\n",
    "\n",
    "    def compute_output(self, data):\n",
    "        sample_idx = data['sample_idx']\n",
    "        return - np.sum(self.cached_data['gradient'][sample_idx]) / (np.sum(self.cached_data['hessian'][sample_idx]) + self.lambda_)\n",
    "\n",
    "    def preprocess(self, X, y, yhat):\n",
    "        \"\"\"\n",
    "        对建立 cache_data\n",
    "        :param X:\n",
    "        :return:\n",
    "        \"\"\"\n",
    "        if yhat is None:\n",
    "            yhat = np.zeros_like(y)\n",
    "            \n",
    "        self.cached_data= { \n",
    "            'X': X,\n",
    "            'y': y,\n",
    "            'yhat': yhat,\n",
    "            'gradient': self.loss.gradient(y, yhat),\n",
    "            'hessian': self.loss.hessian(y, yhat)\n",
    "        }\n",
    "\n",
    "        n_samples, n_features = X.shape\n",
    "    \n",
    "        # 用一个 dict 来表示 data\n",
    "        # 这个 data 只保存样本的索引，而不保存值\n",
    "        data = dict()\n",
    "        # 这里使用 np.argsort 只排序 index，不排序原来的数据\n",
    "        data['features'] = {feat_idx: np.argsort(self.cached_data['X'][:, feat_idx]) for feat_idx in range(n_features)}\n",
    "        data['n_samples'], data['n_features'] = n_samples, n_features\n",
    "        data['sample_idx'] = np.arange(n_samples)\n",
    "        return data\n",
    "\n",
    "    def fit(self, X, y, yhat=None):\n",
    "        data = self.preprocess(X, y, yhat)\n",
    "        self.tree = self.create_tree(data, depth=1)\n",
    "\n",
    "    def _predict(self, node, x):\n",
    "        \"\"\"\n",
    "        对一个样本进行预测\n",
    "        \"\"\"\n",
    "        if not node.left and not node.right:\n",
    "            return node.output\n",
    "        if x[node.split_feat_idx] <= node.split_feat_val:\n",
    "            return self._predict(node.left, x)\n",
    "        else:\n",
    "            return self._predict(node.right, x)\n",
    "\n",
    "\n",
    "    def predict(self, X):\n",
    "        yhat = np.array([self._predict(self.tree, x) for x in X])\n",
    "        return yhat\n"
   ]
  },
  {
   "cell_type": "markdown",
   "metadata": {},
   "source": [
    "## 测试"
   ]
  },
  {
   "cell_type": "code",
   "execution_count": 5,
   "metadata": {
    "ExecuteTime": {
     "end_time": "2020-07-08T07:17:52.070821Z",
     "start_time": "2020-07-08T07:17:51.894092Z"
    }
   },
   "outputs": [
    {
     "name": "stdout",
     "output_type": "stream",
     "text": [
      "mse: 0.0023532641487166335\n"
     ]
    },
    {
     "data": {
      "text/plain": [
       "<matplotlib.collections.PathCollection at 0x122300198>"
      ]
     },
     "execution_count": 5,
     "metadata": {},
     "output_type": "execute_result"
    },
    {
     "data": {
      "text/plain": [
       "<matplotlib.collections.PathCollection at 0x1223005f8>"
      ]
     },
     "execution_count": 5,
     "metadata": {},
     "output_type": "execute_result"
    },
    {
     "data": {
      "text/plain": [
       "<matplotlib.legend.Legend at 0x122300748>"
      ]
     },
     "execution_count": 5,
     "metadata": {},
     "output_type": "execute_result"
    },
    {
     "data": {
      "image/png": "[encoded data removed]",
      "text/plain": [
       "<Figure size 432x288 with 1 Axes>"
      ]
     },
     "metadata": {
      "needs_background": "light"
     },
     "output_type": "display_data"
    }
   ],
   "source": [
    "with open(\"ex0.txt\") as f:\n",
    "    data = np.array([list(map(float, line.strip().split())) for line in f])\n",
    "    X = data[:, 0][:, np.newaxis]\n",
    "    y = data[:, 1]\n",
    "\n",
    "bst = XGBoostBaseLearner(max_depth=10)\n",
    "bst.fit(X, y)\n",
    "\n",
    "yhat = bst.predict(X)\n",
    "print(f\"mse: {MSE()(y, yhat)}\")\n",
    "plt.scatter(X, y, label='y')\n",
    "plt.scatter(X, yhat, label='yhat')\n",
    "plt.legend()\n",
    "plt.show()"
   ]
  }
 ],
 "metadata": {
  "kernelspec": {
   "display_name": "Python 3.6.10 64-bit ('tensorflow2': conda)",
   "language": "python",
   "name": "python361064bittensorflow2conda916f6dc8789a43e39b82205c8a731f83"
  },
  "language_info": {
   "codemirror_mode": {
    "name": "ipython",
    "version": 3
   },
   "file_extension": ".py",
   "mimetype": "text/x-python",
   "name": "python",
   "nbconvert_exporter": "python",
   "pygments_lexer": "ipython3",
   "version": "3.6.10"
  },
  "toc": {
   "base_numbering": 1,
   "nav_menu": {},
   "number_sections": true,
   "sideBar": true,
   "skip_h1_title": false,
   "title_cell": "Table of Contents",
   "title_sidebar": "Contents",
   "toc_cell": false,
   "toc_position": {},
   "toc_section_display": true,
   "toc_window_display": false
  }
 },
 "nbformat": 4,
 "nbformat_minor": 2
}
