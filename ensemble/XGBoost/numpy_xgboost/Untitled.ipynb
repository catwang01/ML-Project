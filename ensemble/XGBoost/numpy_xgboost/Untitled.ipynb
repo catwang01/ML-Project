{
 "cells": [
  {
   "cell_type": "markdown",
   "metadata": {},
   "source": [
    "[toc]\n",
    "\n",
    "# ML 学习笔记-7-XGBoost-4-XGBoost类的实现"
   ]
  },
  {
   "cell_type": "code",
   "execution_count": 1,
   "metadata": {
    "ExecuteTime": {
     "end_time": "2020-07-08T08:21:40.683590Z",
     "start_time": "2020-07-08T08:21:40.312911Z"
    }
   },
   "outputs": [
    {
     "name": "stdout",
     "output_type": "stream",
     "text": [
      "importing Jupyter notebook from note7_xgboost_3.ipynb\n"
     ]
    }
   ],
   "source": [
    "import ipynb_importer\n",
    "from note7_xgboost_3 import XGBoostBaseLearner, MSE\n",
    "import numpy as np\n",
    "from matplotlib import pyplot as plt"
   ]
  },
  {
   "cell_type": "code",
   "execution_count": 2,
   "metadata": {
    "ExecuteTime": {
     "end_time": "2020-07-08T08:21:40.691853Z",
     "start_time": "2020-07-08T08:21:40.685953Z"
    }
   },
   "outputs": [],
   "source": [
    "class XGBoost:\n",
    "    def __init__(self, regression=True, n_estimator=3, **params):\n",
    "        self.n_estimator = n_estimator\n",
    "        self.regression = regression\n",
    "        self.loss = MSE() if regression else CrossEntropyWithLogits()\n",
    "        self.trees = [\n",
    "            XGBoostBaseLearner(loss=self.loss, **params) for _ in range(self.n_estimator)\n",
    "        ]\n",
    "        \n",
    "    def fit(self, X, y):\n",
    "        yhat = np.zeros_like(y)\n",
    "        for tree in self.trees:\n",
    "            tree.fit(X, y, yhat)\n",
    "            yhat += tree.predict(X)\n",
    "        return self\n",
    "    \n",
    "    def predict(self, X):\n",
    "        n_samples = X.shape[0]\n",
    "        yhat = np.zeros((n_samples,))\n",
    "        for tree in self.trees:\n",
    "            yhat += tree.predict(X)\n",
    "        return yhat"
   ]
  },
  {
   "cell_type": "code",
   "execution_count": 3,
   "metadata": {
    "ExecuteTime": {
     "end_time": "2020-07-08T08:21:40.877740Z",
     "start_time": "2020-07-08T08:21:40.694115Z"
    }
   },
   "outputs": [
    {
     "data": {
      "text/plain": [
       "<__main__.XGBoost at 0x114116f60>"
      ]
     },
     "execution_count": 3,
     "metadata": {},
     "output_type": "execute_result"
    },
    {
     "name": "stdout",
     "output_type": "stream",
     "text": [
      "mse: 0.0007601379269091327\n"
     ]
    },
    {
     "data": {
      "text/plain": [
       "<matplotlib.collections.PathCollection at 0x1144007b8>"
      ]
     },
     "execution_count": 3,
     "metadata": {},
     "output_type": "execute_result"
    },
    {
     "data": {
      "text/plain": [
       "<matplotlib.collections.PathCollection at 0x114400c88>"
      ]
     },
     "execution_count": 3,
     "metadata": {},
     "output_type": "execute_result"
    },
    {
     "data": {
      "text/plain": [
       "<matplotlib.legend.Legend at 0x114400e80>"
      ]
     },
     "execution_count": 3,
     "metadata": {},
     "output_type": "execute_result"
    },
    {
     "data": {
      "image/png": "[encoded data removed]",
      "text/plain": [
       "<Figure size 432x288 with 1 Axes>"
      ]
     },
     "metadata": {
      "needs_background": "light"
     },
     "output_type": "display_data"
    }
   ],
   "source": [
    "if __name__ == \"__main__\":\n",
    "    with open(\"ex0.txt\") as f:\n",
    "        data = np.array([list(map(float, line.strip().split())) for line in f])\n",
    "        X = data[:, 0][:, np.newaxis]\n",
    "        y = data[:, 1]\n",
    "\n",
    "    bst = XGBoost()\n",
    "    bst.fit(X, y)\n",
    "\n",
    "    yhat = bst.predict(X)\n",
    "    print(f\"mse: {MSE()(y, yhat)}\")\n",
    "    plt.scatter(X, y, label='y')\n",
    "    plt.scatter(X, yhat, label='yhat')\n",
    "    plt.legend()\n",
    "    plt.show()"
   ]
  }
 ],
 "metadata": {
  "kernelspec": {
   "display_name": "Python 3.6.10 64-bit ('tensorflow2': conda)",
   "language": "python",
   "name": "python361064bittensorflow2conda916f6dc8789a43e39b82205c8a731f83"
  },
  "language_info": {
   "codemirror_mode": {
    "name": "ipython",
    "version": 3
   },
   "file_extension": ".py",
   "mimetype": "text/x-python",
   "name": "python",
   "nbconvert_exporter": "python",
   "pygments_lexer": "ipython3",
   "version": "3.6.10"
  },
  "toc": {
   "base_numbering": 1,
   "nav_menu": {},
   "number_sections": true,
   "sideBar": true,
   "skip_h1_title": false,
   "title_cell": "Table of Contents",
   "title_sidebar": "Contents",
   "toc_cell": false,
   "toc_position": {},
   "toc_section_display": true,
   "toc_window_display": false
  }
 },
 "nbformat": 4,
 "nbformat_minor": 2
}
