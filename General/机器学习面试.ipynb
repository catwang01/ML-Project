{
 "cells": [
  {
   "cell_type": "markdown",
   "metadata": {},
   "source": [
    "[toc]"
   ]
  },
  {
   "cell_type": "markdown",
   "metadata": {},
   "source": [
    "# 机器学习面试题"
   ]
  },
  {
   "cell_type": "markdown",
   "metadata": {},
   "source": [
    "## 1.过拟合、欠拟合是什么，有什么解决方案 ？\n",
    "\n",
    "欠拟合的原因：由于模型复杂度较低、训练数据较少等原因，导致模型的训练误差很大，泛化能力弱\n",
    "\n",
    "如何避免：\n",
    "1. 增加模型复杂度，改用更加复杂的模型，如将 NN 的神经元个数增加，增加决策树的深度等。\n",
    "2. 增加样本量\n",
    "3. 引入更多的特征。如二阶交互项等。\n",
    "4. ensemble。如 Boosting算法将一个弱学习器组合起来得到强学习器。\n",
    "    \n",
    "\n",
    "过拟合的原因：模型复杂度过高，训练数据过少，训练误差小，测试误差大，泛化能力强。\n",
    "\n",
    "如何避免：\n",
    "1. 增加训练数据等。\n",
    "2. 降低模型复杂度。如 NN 减少神经元个数，减少层数；决策树剪枝，增加深度等\n",
    "3. 早停止（early stopping）：当验证集的泛化误差变大之后，停止训练。\n",
    "4. 正则化（L1、L2）：可以采用正则化对模型的复杂度进行约束\n",
    "5. ensemble。如 RandomForest 将容易过拟合的 decision tree 结合起来得到泛化性比较强的学习器。"
   ]
  }
 ],
 "metadata": {
  "hide_input": false,
  "kernelspec": {
   "display_name": "Python 3.6.10 64-bit ('tensorflow2': conda)",
   "language": "python",
   "name": "python361064bittensorflow2conda916f6dc8789a43e39b82205c8a731f83"
  },
  "language_info": {
   "codemirror_mode": {
    "name": "ipython",
    "version": 3
   },
   "file_extension": ".py",
   "mimetype": "text/x-python",
   "name": "python",
   "nbconvert_exporter": "python",
   "pygments_lexer": "ipython3",
   "version": "3.6.10"
  },
  "toc": {
   "base_numbering": 1,
   "nav_menu": {},
   "number_sections": false,
   "sideBar": true,
   "skip_h1_title": false,
   "title_cell": "Table of Contents",
   "title_sidebar": "Contents",
   "toc_cell": false,
   "toc_position": {
    "height": "calc(100% - 180px)",
    "left": "10px",
    "top": "150px",
    "width": "165px"
   },
   "toc_section_display": true,
   "toc_window_display": true
  },
  "varInspector": {
   "cols": {
    "lenName": 16,
    "lenType": 16,
    "lenVar": 40
   },
   "kernels_config": {
    "python": {
     "delete_cmd_postfix": "",
     "delete_cmd_prefix": "del ",
     "library": "var_list.py",
     "varRefreshCmd": "print(var_dic_list())"
    },
    "r": {
     "delete_cmd_postfix": ") ",
     "delete_cmd_prefix": "rm(",
     "library": "var_list.r",
     "varRefreshCmd": "cat(var_dic_list()) "
    }
   },
   "types_to_exclude": [
    "module",
    "function",
    "builtin_function_or_method",
    "instance",
    "_Feature"
   ],
   "window_display": false
  }
 },
 "nbformat": 4,
 "nbformat_minor": 2
}
