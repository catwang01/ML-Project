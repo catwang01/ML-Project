{
 "cells": [
  {
   "cell_type": "markdown",
   "metadata": {},
   "source": [
    "[toc] \n",
    "\n",
    "# Wordlevel Precision 和 Recall 的计算"
   ]
  },
  {
   "cell_type": "markdown",
   "metadata": {},
   "source": [
    "最近在做 slot filling 的任务，其中有涉及到需要计算 wordlevel 的 recall 和 precision，这个和普通的计算还有些不同，因此特意做此记录."
   ]
  },
  {
   "cell_type": "markdown",
   "metadata": {},
   "source": [
    "## 普通的二分类的 precision 和 recall"
   ]
  },
  {
   "cell_type": "markdown",
   "metadata": {},
   "source": [
    "普通的二分类的 precision 和 recall 只需要计算出混淆矩阵就可以了。混淆矩阵长下面这个样子\n",
    "\n",
    "| | predict: positive | predict: negative |\n",
    "| --- | --- | --- |\n",
    "| ground: true | tp | fn |\n",
    "| ground: false | fp | tn |"
   ]
  },
  {
   "cell_type": "markdown",
   "metadata": {},
   "source": [
    "## word level 的 precisoin 和 recall 的计算"
   ]
  },
  {
   "cell_type": "markdown",
   "metadata": {},
   "source": [
    "这个和普通的二分类有一个区别，就是 postive 和 negative 的定义问题。\n",
    "\n",
    "对于普通的二分类，postive 表示 label = 1，negative 表示 label = 0\n",
    "\n",
    "但是对于 slot filling 中，每个标签都表示一个单词。我们无法简单的沿用上面的形式，因为在这种情况下 postive 和 negative 的定义是不明确的。\n",
    "\n",
    "我们需要定义什么样的样本是 postive 什么样的样本是 negative 才可以。我们采取下面的定义：\n",
    "\n",
    "当前 slot 为空，我们认为是 negative，当前 slot 不为空，我们认为是 postive\n",
    "\n",
    "那么这样以来，我们的 tp, fn, fp 分别定义为\n",
    "\n",
    "- tp: 本来不是空，预测不是空\n",
    "- fn: 本来不是空，预测是空\n",
    "- fp: 本来是空，预测不是空\n",
    "\n",
    "仔细想来，这个定义实际上并不符合我们的要求。看下面的例子：\n",
    "\n",
    "```\n",
    "假如某个 slot 的值为 Edward，我们对其的预测为 Ed\n",
    "```\n",
    "\n",
    "这种情况，我们认为是不能当作 tp 的，因为这个 slot 实际上并没有预测正确。但是在上面的定义中，是被当作 tp 的。因为 ground truth 不是空（是 Edward），而预测也不是空（是Ed）。\n",
    "\n",
    "这说明，这种定义方式下，我们的 tp、fn、fp 的定义应该相应调整，ground truth 不是空，prediction 也不是空，但是预测错误这种情况不能放在 tp 中，应该放在 fn 中。\n",
    "\n",
    "- tp: 本来不是空，预测不是空且预测正确\n",
    "- fn: 本来不是空，预测是空 or 本来不是空，预测不是空但是预测错误.\n",
    "- fp: 本来是空，预测不是空"
   ]
  }
 ],
 "metadata": {
  "kernelspec": {
   "display_name": "Python [conda env:tars]",
   "language": "python",
   "name": "conda-env-tars-py"
  },
  "language_info": {
   "codemirror_mode": {
    "name": "ipython",
    "version": 3
   },
   "file_extension": ".py",
   "mimetype": "text/x-python",
   "name": "python",
   "nbconvert_exporter": "python",
   "pygments_lexer": "ipython3",
   "version": "3.7.9"
  },
  "toc": {
   "base_numbering": 1,
   "nav_menu": {},
   "number_sections": true,
   "sideBar": true,
   "skip_h1_title": false,
   "title_cell": "Table of Contents",
   "title_sidebar": "Contents",
   "toc_cell": false,
   "toc_position": {},
   "toc_section_display": true,
   "toc_window_display": true
  }
 },
 "nbformat": 4,
 "nbformat_minor": 4
}
