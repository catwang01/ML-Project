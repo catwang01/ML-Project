{
 "cells": [
  {
   "cell_type": "markdown",
   "metadata": {},
   "source": [
    "[toc]"
   ]
  },
  {
   "cell_type": "markdown",
   "metadata": {},
   "source": [
    "# ML 学习笔记-20-CART"
   ]
  },
  {
   "cell_type": "markdown",
   "metadata": {
    "ExecuteTime": {
     "end_time": "2020-07-05T15:18:20.984490Z",
     "start_time": "2020-07-05T15:18:20.981258Z"
    }
   },
   "source": [
    "## CART 理论部分"
   ]
  },
  {
   "cell_type": "markdown",
   "metadata": {
    "ExecuteTime": {
     "end_time": "2020-07-05T15:05:53.252498Z",
     "start_time": "2020-07-05T15:05:53.247715Z"
    }
   },
   "source": [
    "cart 树可以用来解决回归问题，也可以用来解决分类问题。\n",
    "\n",
    "cart 树通过对节点的分裂来使用分裂准则减小，进而递归地生成树。值得一提的是 CART 树对于将每个节点都分为左节点和右节点。因此，CART 树生成的是一棵二叉树。"
   ]
  },
  {
   "cell_type": "markdown",
   "metadata": {
    "ExecuteTime": {
     "end_time": "2020-07-05T15:08:57.368267Z",
     "start_time": "2020-07-05T15:08:57.359511Z"
    }
   },
   "source": [
    "一棵 CART 树实际上对应的是对样本空间的一个划分。每个叶节点都对应都样本空间中的一块区域。设样本空间为 $R$，被 CART 树划分成为 m 个区域 $R_1, \\cdots, R_m$，即 $R = \\{R_1, \\cdots, R_m\\}$。\n",
    "\n",
    "CART 树在每个节点都有一个输出值 $c_i$。因此，回归树可以表示为\n",
    "\n",
    "$$\n",
    "f(x) = \\sum_{i=1}^{m} c_i I \\{ x \\in R_i \\}\n",
    "$$\n",
    "\n",
    "\n",
    "- 对于分类问题，输出值 $c_i$ 为区域 $R_i$ 上的出现次数最多的类别，即 majority voting。\n",
    "- 对于回归树，输出值 $c_i$ 为区域 $R_i$ 上的目标值的平均值，即 $c_i = average(y_i | x_i \\in R_i)$。\n"
   ]
  },
  {
   "cell_type": "markdown",
   "metadata": {},
   "source": [
    "### 结点的分裂"
   ]
  },
  {
   "cell_type": "markdown",
   "metadata": {},
   "source": [
    "#### 结点划分的准则（损失函数）：\n",
    "\n",
    "- 分类树：Gini index\n",
    "- 回归树： mse"
   ]
  },
  {
   "cell_type": "markdown",
   "metadata": {},
   "source": [
    "其中，Gini index 的计算如下：\n",
    "对于一个二维离散分布，其分布列如下：\n",
    "\n",
    "|x | $x_1$ | $x_2$ |\n",
    "| -- | -- | -- | \n",
    "| p(X=x) | p | 1- p|\n",
    "\n",
    "则其 Gini index 为\n",
    "\n",
    "$$\n",
    "Gini = p(1-p) = 1 - p^2\n",
    "$$\n",
    "\n",
    "对于一个多维离散分布，设其分布列为 \n",
    "\n",
    "\n",
    "|x | $x_1$ | $x_2$ | $\\cdots$ | $x_m$ |\n",
    "| -- | -- | -- | -- | -- |\n",
    "| p(X=x) | $p_1$ | $p_2$ | $\\cdots$ | $p_m$ |\n",
    "\n",
    "$$\n",
    "Gini = \\sum_{i=1}^m p_i(1-p_i) = \\sum_{i=1}^m p_i - \\sum_{i=1}^m p_i^2 = 1 - \\sum_{i=1}^m p_i^2\n",
    "$$\n",
    "\n",
    "对于样本 $\\{X_i, y_i\\}^N_{i=1}$ 来说，设 $y_i$ 的取值有 k 类，分别是 $D_1, \\cdots, D_k$，第 i 类 $D_i$ 有 $| D_i |$ 个样本，一共有 $|D|$ 个样本。则基于这个样本经验分布的 Gini index 为\n",
    "\n",
    "$$\n",
    "Gini = 1 - \\sum_{i=1}^k \\left(\\frac{|D_i|}{|D|} \\right)^2\n",
    "$$"
   ]
  },
  {
   "cell_type": "markdown",
   "metadata": {},
   "source": [
    "#### 如何根据分裂准则进行分裂？"
   ]
  },
  {
   "cell_type": "markdown",
   "metadata": {
    "ExecuteTime": {
     "end_time": "2020-07-06T11:43:07.756383Z",
     "start_time": "2020-07-06T11:43:07.749507Z"
    }
   },
   "source": [
    "CART采用递归二分分割的方法（每次一个区域分为两个子区域）来划分特征空间。描述如下：\n",
    "\n",
    "选择第 j 个特征 x(j) 及它的取值 s ，把它们分别称为切分变量(splitting variable)和切点分(splitting point)。并定义两个区域：\n",
    "\n",
    "$$\n",
    "\\begin{aligned}\n",
    "R_1(j,s) &= \\{x∣x(j)≤s\\} \\\\ \n",
    "R_2(j,s) &= \\{x∣x(j)>s\\} \n",
    "\\end{aligned}\n",
    "$$\n",
    "\n",
    "如何找到当前迭代中的最优切分变量 j 和最优切分点 s 呢？它们是下式（平方损失）达到最小值时对应的 j,s ：\n",
    "\n",
    "$$\n",
    "min_{j,s} \\left[min_{c_1} \\sum_{i \\in R_1(j,s)} (y_i - c_1)  + min_{c_2} \\sum_{i \\in R_2(j,s)} (y_i - c_2) \\right]\n",
    "$$"
   ]
  },
  {
   "cell_type": "markdown",
   "metadata": {},
   "source": [
    "#### 如何计算节点的输出值"
   ]
  },
  {
   "cell_type": "markdown",
   "metadata": {
    "ExecuteTime": {
     "end_time": "2020-07-06T11:43:07.756383Z",
     "start_time": "2020-07-06T11:43:07.749507Z"
    }
   },
   "source": [
    "可以看到，上面的式子中，有两层取 min 的操作。一个是外层的对 $(j,s)$ 取 min 的操作，一个是内层的 2 个 对 $c_1$ 和 $c_2$ 取 min 的操作。\n",
    "其中内层的那个容易解出 \n",
    "$$c_k = \\frac{1}{|R_k|} \\sum_{i \\in R_k} y_i, k = 1, 2$$\n",
    "即 $c_1$、$c_2$ 分别取均值时可以使用内层损失最小。由些得到对于回归问题，在节点的输出值为这个节点对应的区域中的样本目标值的平均值。"
   ]
  },
  {
   "cell_type": "markdown",
   "metadata": {
    "ExecuteTime": {
     "end_time": "2020-07-05T15:35:02.157000Z",
     "start_time": "2020-07-05T15:35:02.153871Z"
    }
   },
   "source": [
    "### 分裂停止的条件"
   ]
  },
  {
   "cell_type": "markdown",
   "metadata": {
    "ExecuteTime": {
     "end_time": "2020-07-05T15:36:05.083434Z",
     "start_time": "2020-07-05T15:36:05.079967Z"
    }
   },
   "source": [
    "1. 结点中的样本都属于一类（这个一般只有分类问题中会出现，回归问题中不会出现）\n",
    "2. 损失函数的减小值小于阈值\n",
    "3. 结点中的样本个数太少\n",
    "4. 树到达规定深度"
   ]
  },
  {
   "cell_type": "markdown",
   "metadata": {},
   "source": [
    "### CART 和 线性回归的区别"
   ]
  },
  {
   "cell_type": "markdown",
   "metadata": {
    "ExecuteTime": {
     "end_time": "2020-07-06T11:53:08.926685Z",
     "start_time": "2020-07-06T11:53:08.805306Z"
    }
   },
   "source": [
    "![](https://gitee.com/EdwardElric_1683260718/picture_bed/raw/master/img/20200706195230.png)"
   ]
  },
  {
   "cell_type": "markdown",
   "metadata": {
    "ExecuteTime": {
     "end_time": "2020-07-05T15:38:50.959664Z",
     "start_time": "2020-07-05T15:38:50.956364Z"
    }
   },
   "source": [
    "## 代码实现"
   ]
  },
  {
   "cell_type": "markdown",
   "metadata": {},
   "source": [
    "### 结点的表示"
   ]
  },
  {
   "cell_type": "markdown",
   "metadata": {},
   "source": [
    "我们要用什么数据结构来表示一棵树？ 一树棵由多个结点构成。那么结点又应该如何表示？\n",
    "首先，一个结点上应该有下面一些信息\n",
    "\n",
    "1. 这个结点分裂时的信息。根据那个特征分裂的？根据这个特征的哪个值分裂的？\n",
    "2. 表示左右节点的引用。\n",
    "3. 节点上的输出\n",
    "4. 节点的深度"
   ]
  },
  {
   "cell_type": "code",
   "execution_count": 1,
   "metadata": {
    "ExecuteTime": {
     "end_time": "2020-07-06T13:45:30.109024Z",
     "start_time": "2020-07-06T13:45:30.103375Z"
    }
   },
   "outputs": [],
   "source": [
    "class TreeNode:\n",
    "    def __init__(self, split_feat_idx =None,  split_feat_val=None, left=None, right=None, depth=None, output=None):\n",
    "        self.split_feat_idx = split_feat_idx\n",
    "        self.split_feat_val = split_feat_val\n",
    "        self.output = output\n",
    "        self.depth = depth\n",
    "        self.left = left\n",
    "        self.right = right\n",
    "        \n",
    "    # 定义一个 __str__ 便于 print\n",
    "    def __str__(self):\n",
    "        return f\"\"\"{{\n",
    "            depth: {self.depth} output: {self.output} split_feat_idx: {self.split_feat_idx} split_feat_val: {self.split_feat_val}\n",
    "            left: {self.left}\n",
    "            right: {self.right}}}\"\"\""
   ]
  },
  {
   "cell_type": "markdown",
   "metadata": {},
   "source": [
    "### 树的构建"
   ]
  },
  {
   "cell_type": "markdown",
   "metadata": {},
   "source": [
    "假设样本量为 n，特征个数为 p，\n",
    "则我们的输入的 X 是一个 shape = (n, p) 的 np.ndarray，y 是一个 shape=(n, ) 的 np.ndarray"
   ]
  },
  {
   "cell_type": "markdown",
   "metadata": {},
   "source": [
    "先定义一个 `splitData` 函数，输入是 split_feat_idx 和 split_val，表示根据 split_feat_idx 和 split_val 将数据集 X，y 分成两部分。"
   ]
  },
  {
   "cell_type": "code",
   "execution_count": 2,
   "metadata": {
    "ExecuteTime": {
     "end_time": "2020-07-06T13:45:30.114693Z",
     "start_time": "2020-07-06T13:45:30.111032Z"
    }
   },
   "outputs": [],
   "source": [
    "def splitData(X, y, split_idx, split_val):\n",
    "    mask = X[:, split_idx] <= split_val\n",
    "    left_X, right_X = X[mask], X[~mask]\n",
    "    left_y, right_y = y[mask], y[~mask]\n",
    "    return left_X, right_X, left_y, right_y"
   ]
  },
  {
   "cell_type": "markdown",
   "metadata": {},
   "source": [
    "定义输出的计算和损失的计算。在 cart 树中，每个节点对应一个样本空间的一个区域。\n",
    "- compute_pred 函数定义了如何计算这个区域上的输出值，对于回归问题，compute_output 输出的是这个区域上的样本的平均值\n",
    "- compute_err 函数定义了如何根据数据集计算损失，对于回归问题，损失值是残差平方和。"
   ]
  },
  {
   "cell_type": "code",
   "execution_count": 3,
   "metadata": {
    "ExecuteTime": {
     "end_time": "2020-07-06T13:45:30.120214Z",
     "start_time": "2020-07-06T13:45:30.116785Z"
    }
   },
   "outputs": [],
   "source": [
    "def compute_pred(X, y):\n",
    "    return np.mean(y)\n",
    "\n",
    "def compute_err(X, y):\n",
    "    return np.sum((y - compute_pred(X, y)) ** 2)"
   ]
  },
  {
   "cell_type": "markdown",
   "metadata": {},
   "source": [
    "再定义一个寻找最优分裂特征的函数，输入数据集 X, y 返回分割的特征下标 best_feat_idx 和最优分割值 best_feat_val"
   ]
  },
  {
   "cell_type": "code",
   "execution_count": 4,
   "metadata": {
    "ExecuteTime": {
     "end_time": "2020-07-06T13:45:30.126676Z",
     "start_time": "2020-07-06T13:45:30.122065Z"
    }
   },
   "outputs": [],
   "source": [
    "def choose_best_feat(X, y):\n",
    "    n_sample, n_feat = X.shape\n",
    "    best_feat_idx = None\n",
    "    best_feat_val = None\n",
    "    best_err = float(\"inf\")\n",
    "    \n",
    "    for i in range(n_feat): # 遍历所有特征\n",
    "        x = X[:, i]\n",
    "        for j in range(1, n_sample-1): # 遍历特征 i 的所有取值\n",
    "            left_X, right_X, left_y, right_y = splitData(X, y, i, x[j])\n",
    "            err = compute_err(left_X, left_y) + compute_err(right_X, right_y)\n",
    "            if err < best_err:\n",
    "                best_feat_idx = i\n",
    "                best_feat_val = x[j]\n",
    "                best_err = err\n",
    "    return best_feat_idx, best_feat_val, best_err"
   ]
  },
  {
   "cell_type": "code",
   "execution_count": 5,
   "metadata": {
    "ExecuteTime": {
     "end_time": "2020-07-06T13:45:30.133261Z",
     "start_time": "2020-07-06T13:45:30.128343Z"
    }
   },
   "outputs": [],
   "source": [
    "# opt = { \n",
    "#     'max_depth': 8,\n",
    "#     'min_err_decrease': 0.01,\n",
    "#     \"min_samples_split\": 10 \n",
    "# }\n",
    "\n",
    "def create_tree(X, y, depth, opt):\n",
    "    \"\"\"\n",
    "    根据 X，y 来创建树。\n",
    "    \"\"\"\n",
    "    output = compute_pred(X, y)\n",
    "    root = TreeNode(depth=depth, output=output)\n",
    "    if X.shape[0] < opt[\"min_samples_split\"] or depth >= opt[\"max_depth\"]:\n",
    "        return root\n",
    "\n",
    "    split_feat_idx, split_feat_val, best_err = choose_best_feat(X, y)\n",
    "        \n",
    "    cur_err = compute_err(X, y)\n",
    "    if cur_err - best_err < opt[\"min_err_decrease\"]:\n",
    "        return root\n",
    "    root.split_feat_idx = split_feat_idx\n",
    "    root.split_feat_val = split_feat_val\n",
    "    \n",
    "    # 递归调用\n",
    "    left_X, right_X, left_y, right_y = splitData(X, y, split_feat_idx, split_feat_val)\n",
    "    root.left = create_tree(left_X, left_y, depth=depth+1, opt=opt)\n",
    "    root.right = create_tree(right_X, right_y, depth=depth+1, opt=opt)\n",
    "    return root"
   ]
  },
  {
   "cell_type": "code",
   "execution_count": 6,
   "metadata": {
    "ExecuteTime": {
     "end_time": "2020-07-06T13:45:30.292463Z",
     "start_time": "2020-07-06T13:45:30.134580Z"
    }
   },
   "outputs": [],
   "source": [
    "import numpy as np\n",
    "\n",
    "filename = \"ex0.txt\"\n",
    "with open(filename) as f:\n",
    "    data = [list(map(float, line.strip().split())) for line in f]\n",
    "data = np.array(data)\n",
    "X = data[:, 0][:, np.newaxis]\n",
    "y = data[:, 1]"
   ]
  },
  {
   "cell_type": "code",
   "execution_count": 7,
   "metadata": {
    "ExecuteTime": {
     "end_time": "2020-07-06T13:45:30.357710Z",
     "start_time": "2020-07-06T13:45:30.293635Z"
    }
   },
   "outputs": [
    {
     "name": "stderr",
     "output_type": "stream",
     "text": [
      "/anaconda3/envs/tensorflow2/lib/python3.6/site-packages/numpy/core/fromnumeric.py:3335: RuntimeWarning: Mean of empty slice.\n",
      "  out=out, **kwargs)\n",
      "/anaconda3/envs/tensorflow2/lib/python3.6/site-packages/numpy/core/_methods.py:161: RuntimeWarning: invalid value encountered in double_scalars\n",
      "  ret = ret.dtype.type(ret / rcount)\n"
     ]
    }
   ],
   "source": [
    "opt = { \n",
    "    'max_depth': 8,\n",
    "    'min_err_decrease': 0.01,\n",
    "    \"min_samples_split\": 10 \n",
    "}\n",
    "\n",
    "tree = create_tree(X, y, 0, opt)"
   ]
  },
  {
   "cell_type": "code",
   "execution_count": 8,
   "metadata": {
    "ExecuteTime": {
     "end_time": "2020-07-06T13:45:30.365678Z",
     "start_time": "2020-07-06T13:45:30.362150Z"
    }
   },
   "outputs": [
    {
     "name": "stdout",
     "output_type": "stream",
     "text": [
      "{\n",
      "            depth: 0 output: 2.00369868 split_feat_idx: 0 split_feat_val: 0.39435\n",
      "            left: {\n",
      "            depth: 1 output: 0.39728045333333334 split_feat_idx: 0 split_feat_val: 0.197834\n",
      "            left: {\n",
      "            depth: 2 output: -0.023838155555555553 split_feat_idx: 0 split_feat_val: 0.148654\n",
      "            left: {\n",
      "            depth: 3 output: -0.054810500000000005 split_feat_idx: 0 split_feat_val: 0.143143\n",
      "            left: {\n",
      "            depth: 4 output: -0.040866062499999994 split_feat_idx: 0 split_feat_val: 0.004327\n",
      "            left: {\n",
      "            depth: 5 output: 0.188975 split_feat_idx: None split_feat_val: None\n",
      "            left: None\n",
      "            right: None}\n",
      "            right: {\n",
      "            depth: 5 output: -0.04828029032258066 split_feat_idx: 0 split_feat_val: 0.052031\n",
      "            left: {\n",
      "            depth: 6 output: -0.1233381 split_feat_idx: 0 split_feat_val: 0.04127\n",
      "            left: {\n",
      "            depth: 7 output: -0.0663715 split_feat_idx: None split_feat_val: None\n",
      "            left: None\n",
      "            right: None}\n",
      "            right: {\n",
      "            depth: 7 output: -0.35120450000000003 split_feat_idx: None split_feat_val: None\n",
      "            left: None\n",
      "            right: None}}\n",
      "            right: {\n",
      "            depth: 6 output: -0.012538476190476187 split_feat_idx: 0 split_feat_val: 0.081306\n",
      "            left: {\n",
      "            depth: 7 output: 0.12067520000000001 split_feat_idx: None split_feat_val: None\n",
      "            left: None\n",
      "            right: None}\n",
      "            right: {\n",
      "            depth: 7 output: -0.05416775 split_feat_idx: 0 split_feat_val: 0.129291\n",
      "            left: {\n",
      "            depth: 8 output: -0.03539627272727273 split_feat_idx: None split_feat_val: None\n",
      "            left: None\n",
      "            right: None}\n",
      "            right: {\n",
      "            depth: 8 output: -0.095465 split_feat_idx: None split_feat_val: None\n",
      "            left: None\n",
      "            right: None}}}}}\n",
      "            right: {\n",
      "            depth: 4 output: -0.2779215 split_feat_idx: None split_feat_val: None\n",
      "            left: None\n",
      "            right: None}}\n",
      "            right: {\n",
      "            depth: 3 output: 0.07189454545454545 split_feat_idx: 0 split_feat_val: 0.176202\n",
      "            left: {\n",
      "            depth: 4 output: 0.10609520000000001 split_feat_idx: None split_feat_val: None\n",
      "            left: None\n",
      "            right: None}\n",
      "            right: {\n",
      "            depth: 4 output: 0.043393999999999995 split_feat_idx: None split_feat_val: None\n",
      "            left: None\n",
      "            right: None}}}\n",
      "            right: {\n",
      "            depth: 2 output: 1.0289583666666666 split_feat_idx: 0 split_feat_val: 0.210542\n",
      "            left: {\n",
      "            depth: 3 output: 1.3753635000000002 split_feat_idx: None split_feat_val: None\n",
      "            left: None\n",
      "            right: None}\n",
      "            right: {\n",
      "            depth: 3 output: 1.0042151428571429 split_feat_idx: 0 split_feat_val: 0.37527\n",
      "            left: {\n",
      "            depth: 4 output: 0.9802326799999999 split_feat_idx: 0 split_feat_val: 0.316465\n",
      "            left: {\n",
      "            depth: 5 output: 1.0566448 split_feat_idx: 0 split_feat_val: 0.234175\n",
      "            left: {\n",
      "            depth: 6 output: 0.90613225 split_feat_idx: None split_feat_val: None\n",
      "            left: None\n",
      "            right: None}\n",
      "            right: {\n",
      "            depth: 6 output: 1.1113766363636364 split_feat_idx: 0 split_feat_val: 0.303094\n",
      "            left: {\n",
      "            depth: 7 output: 1.1578984285714284 split_feat_idx: None split_feat_val: None\n",
      "            left: None\n",
      "            right: None}\n",
      "            right: {\n",
      "            depth: 7 output: 1.0299635 split_feat_idx: None split_feat_val: None\n",
      "            left: None\n",
      "            right: None}}}\n",
      "            right: {\n",
      "            depth: 5 output: 0.8656145000000001 split_feat_idx: 0 split_feat_val: 0.363783\n",
      "            left: {\n",
      "            depth: 6 output: 0.8030192857142858 split_feat_idx: None split_feat_val: None\n",
      "            left: None\n",
      "            right: None}\n",
      "            right: {\n",
      "            depth: 6 output: 1.0116699999999998 split_feat_idx: None split_feat_val: None\n",
      "            left: None\n",
      "            right: None}}}\n",
      "            right: {\n",
      "            depth: 4 output: 1.204069 split_feat_idx: None split_feat_val: None\n",
      "            left: None\n",
      "            right: None}}}}\n",
      "            right: {\n",
      "            depth: 1 output: 2.9675496160000003 split_feat_idx: 0 split_feat_val: 0.582002\n",
      "            left: {\n",
      "            depth: 2 output: 1.980035071428571 split_feat_idx: 0 split_feat_val: 0.486698\n",
      "            left: {\n",
      "            depth: 3 output: 1.8810897500000001 split_feat_idx: 0 split_feat_val: 0.476884\n",
      "            left: {\n",
      "            depth: 4 output: 1.8939650666666665 split_feat_idx: 0 split_feat_val: 0.469643\n",
      "            left: {\n",
      "            depth: 5 output: 1.8654765384615384 split_feat_idx: 0 split_feat_val: 0.463444\n",
      "            left: {\n",
      "            depth: 6 output: 1.8823655 split_feat_idx: 0 split_feat_val: 0.438898\n",
      "            left: {\n",
      "            depth: 7 output: 1.8652765555555557 split_feat_idx: None split_feat_val: None\n",
      "            left: None\n",
      "            right: None}\n",
      "            right: {\n",
      "            depth: 7 output: 1.9336323333333334 split_feat_idx: None split_feat_val: None\n",
      "            left: None\n",
      "            right: None}}\n",
      "            right: {\n",
      "            depth: 6 output: 1.662809 split_feat_idx: None split_feat_val: None\n",
      "            left: None\n",
      "            right: None}}\n",
      "            right: {\n",
      "            depth: 5 output: 2.0791405000000003 split_feat_idx: None split_feat_val: None\n",
      "            left: None\n",
      "            right: None}}\n",
      "            right: {\n",
      "            depth: 4 output: 1.68796 split_feat_idx: None split_feat_val: None\n",
      "            left: None\n",
      "            right: None}}\n",
      "            right: {\n",
      "            depth: 3 output: 2.0409245 split_feat_idx: 0 split_feat_val: 0.533241\n",
      "            left: {\n",
      "            depth: 4 output: 2.084306555555555 split_feat_idx: 0 split_feat_val: 0.528528\n",
      "            left: {\n",
      "            depth: 5 output: 2.064666266666667 split_feat_idx: 0 split_feat_val: 0.488632\n",
      "            left: {\n",
      "            depth: 6 output: 2.2013475 split_feat_idx: None split_feat_val: None\n",
      "            left: None\n",
      "            right: None}\n",
      "            right: {\n",
      "            depth: 6 output: 2.0436383846153845 split_feat_idx: 0 split_feat_val: 0.493209\n",
      "            left: {\n",
      "            depth: 7 output: 1.714463 split_feat_idx: None split_feat_val: None\n",
      "            left: None\n",
      "            right: None}\n",
      "            right: {\n",
      "            depth: 7 output: 2.071069666666667 split_feat_idx: 0 split_feat_val: 0.504884\n",
      "            left: {\n",
      "            depth: 8 output: 2.187387 split_feat_idx: None split_feat_val: None\n",
      "            left: None\n",
      "            right: None}\n",
      "            right: {\n",
      "            depth: 8 output: 2.0478062 split_feat_idx: None split_feat_val: None\n",
      "            left: None\n",
      "            right: None}}}}\n",
      "            right: {\n",
      "            depth: 5 output: 2.182508 split_feat_idx: None split_feat_val: None\n",
      "            left: None\n",
      "            right: None}}\n",
      "            right: {\n",
      "            depth: 4 output: 1.943314875 split_feat_idx: None split_feat_val: None\n",
      "            left: None\n",
      "            right: None}}}\n",
      "            right: {\n",
      "            depth: 2 output: 3.467255771084338 split_feat_idx: 0 split_feat_val: 0.797583\n",
      "            left: {\n",
      "            depth: 3 output: 2.9836209534883724 split_feat_idx: 0 split_feat_val: 0.620393\n",
      "            left: {\n",
      "            depth: 4 output: 3.1442664000000002 split_feat_idx: None split_feat_val: None\n",
      "            left: None\n",
      "            right: None}\n",
      "            right: {\n",
      "            depth: 4 output: 2.962483394736842 split_feat_idx: 0 split_feat_val: 0.622616\n",
      "            left: {\n",
      "            depth: 5 output: 2.6702779999999997 split_feat_idx: None split_feat_val: None\n",
      "            left: None\n",
      "            right: None}\n",
      "            right: {\n",
      "            depth: 5 output: 2.978717027777778 split_feat_idx: 0 split_feat_val: 0.71158\n",
      "            left: {\n",
      "            depth: 6 output: 3.0139393888888883 split_feat_idx: 0 split_feat_val: 0.683753\n",
      "            left: {\n",
      "            depth: 7 output: 2.951987818181818 split_feat_idx: 0 split_feat_val: 0.670361\n",
      "            left: {\n",
      "            depth: 8 output: 3.035501857142857 split_feat_idx: None split_feat_val: None\n",
      "            left: None\n",
      "            right: None}\n",
      "            right: {\n",
      "            depth: 8 output: 2.80583825 split_feat_idx: None split_feat_val: None\n",
      "            left: None\n",
      "            right: None}}\n",
      "            right: {\n",
      "            depth: 7 output: 3.111291857142857 split_feat_idx: None split_feat_val: None\n",
      "            left: None\n",
      "            right: None}}\n",
      "            right: {\n",
      "            depth: 6 output: 2.943494666666667 split_feat_idx: 0 split_feat_val: 0.784133\n",
      "            left: {\n",
      "            depth: 7 output: 2.9143529285714287 split_feat_idx: 0 split_feat_val: 0.771663\n",
      "            left: {\n",
      "            depth: 8 output: 2.9444460909090906 split_feat_idx: None split_feat_val: None\n",
      "            left: None\n",
      "            right: None}\n",
      "            right: {\n",
      "            depth: 8 output: 2.8040113333333334 split_feat_idx: None split_feat_val: None\n",
      "            left: None\n",
      "            right: None}}\n",
      "            right: {\n",
      "            depth: 7 output: 3.04549075 split_feat_idx: None split_feat_val: None\n",
      "            left: None\n",
      "            right: None}}}}}\n",
      "            right: {\n",
      "            depth: 3 output: 3.9871632 split_feat_idx: 0 split_feat_val: 0.819006\n",
      "            left: {\n",
      "            depth: 4 output: 3.768841 split_feat_idx: None split_feat_val: None\n",
      "            left: None\n",
      "            right: None}\n",
      "            right: {\n",
      "            depth: 4 output: 3.9986538421052633 split_feat_idx: 0 split_feat_val: 0.832693\n",
      "            left: {\n",
      "            depth: 5 output: 4.308686 split_feat_idx: None split_feat_val: None\n",
      "            left: None\n",
      "            right: None}\n",
      "            right: {\n",
      "            depth: 5 output: 3.9814298333333347 split_feat_idx: 0 split_feat_val: 0.867298\n",
      "            left: {\n",
      "            depth: 6 output: 3.8705905 split_feat_idx: None split_feat_val: None\n",
      "            left: None\n",
      "            right: None}\n",
      "            right: {\n",
      "            depth: 6 output: 4.003597699999999 split_feat_idx: 0 split_feat_val: 0.872288\n",
      "            left: {\n",
      "            depth: 7 output: 4.40195 split_feat_idx: None split_feat_val: None\n",
      "            left: None\n",
      "            right: None}\n",
      "            right: {\n",
      "            depth: 7 output: 3.9898614137931037 split_feat_idx: 0 split_feat_val: 0.952758\n",
      "            left: {\n",
      "            depth: 8 output: 4.034738611111112 split_feat_idx: None split_feat_val: None\n",
      "            left: None\n",
      "            right: None}\n",
      "            right: {\n",
      "            depth: 8 output: 3.916426000000001 split_feat_idx: None split_feat_val: None\n",
      "            left: None\n",
      "            right: None}}}}}}}}}\n"
     ]
    }
   ],
   "source": [
    "print(tree)"
   ]
  },
  {
   "cell_type": "markdown",
   "metadata": {},
   "source": [
    "### 预测"
   ]
  },
  {
   "cell_type": "markdown",
   "metadata": {
    "ExecuteTime": {
     "end_time": "2020-07-05T13:28:41.817257Z",
     "start_time": "2020-07-05T13:28:41.743892Z"
    }
   },
   "source": [
    "先定义对于一个样本的预测"
   ]
  },
  {
   "cell_type": "code",
   "execution_count": 9,
   "metadata": {
    "ExecuteTime": {
     "end_time": "2020-07-06T13:45:30.372188Z",
     "start_time": "2020-07-06T13:45:30.368051Z"
    }
   },
   "outputs": [],
   "source": [
    "def _predict(node, x):\n",
    "    if not node.left and not node.right:\n",
    "        return node.output\n",
    "    else:\n",
    "        if x[node.split_feat_idx] <= node.split_feat_val:\n",
    "            return _predict(node.left, x)\n",
    "        else:\n",
    "            return _predict(node.right, x)"
   ]
  },
  {
   "cell_type": "markdown",
   "metadata": {
    "ExecuteTime": {
     "end_time": "2020-07-05T13:29:04.515523Z",
     "start_time": "2020-07-05T13:29:04.510985Z"
    }
   },
   "source": [
    "再变成 batch 版本的"
   ]
  },
  {
   "cell_type": "code",
   "execution_count": 10,
   "metadata": {
    "ExecuteTime": {
     "end_time": "2020-07-06T13:45:30.376896Z",
     "start_time": "2020-07-06T13:45:30.374270Z"
    }
   },
   "outputs": [],
   "source": [
    "def predict(node, X):\n",
    "    y = np.array([_predict(node, x) for x in X])\n",
    "    return y"
   ]
  },
  {
   "cell_type": "markdown",
   "metadata": {},
   "source": [
    "对测试集进行预测"
   ]
  },
  {
   "cell_type": "code",
   "execution_count": 11,
   "metadata": {
    "ExecuteTime": {
     "end_time": "2020-07-06T13:45:30.380958Z",
     "start_time": "2020-07-06T13:45:30.378395Z"
    }
   },
   "outputs": [],
   "source": [
    "yhat = predict(tree, X)"
   ]
  },
  {
   "cell_type": "markdown",
   "metadata": {},
   "source": [
    "输出图像查看结果，可以看到拟合的效果不错"
   ]
  },
  {
   "cell_type": "code",
   "execution_count": 12,
   "metadata": {
    "ExecuteTime": {
     "end_time": "2020-07-06T13:45:30.814411Z",
     "start_time": "2020-07-06T13:45:30.382523Z"
    }
   },
   "outputs": [
    {
     "data": {
      "text/plain": [
       "<matplotlib.collections.PathCollection at 0x11552ed68>"
      ]
     },
     "execution_count": 12,
     "metadata": {},
     "output_type": "execute_result"
    },
    {
     "data": {
      "text/plain": [
       "<matplotlib.collections.PathCollection at 0x1155432e8>"
      ]
     },
     "execution_count": 12,
     "metadata": {},
     "output_type": "execute_result"
    },
    {
     "data": {
      "text/plain": [
       "<matplotlib.legend.Legend at 0x1155435c0>"
      ]
     },
     "execution_count": 12,
     "metadata": {},
     "output_type": "execute_result"
    },
    {
     "data": {
      "image/png": "[encoded data removed]",
      "text/plain": [
       "<Figure size 432x288 with 1 Axes>"
      ]
     },
     "metadata": {
      "needs_background": "light"
     },
     "output_type": "display_data"
    }
   ],
   "source": [
    "from matplotlib import pyplot as plt\n",
    "\n",
    "plt.scatter(X.squeeze(), y, label='y')\n",
    "plt.scatter(X.squeeze(), yhat.squeeze(), label='yhat')\n",
    "plt.legend()\n",
    "plt.show()"
   ]
  },
  {
   "cell_type": "markdown",
   "metadata": {},
   "source": [
    "# References\n",
    "1. [机器学习算法实践-树回归 | PytLab](http://pytlab.github.io/2017/11/03/%E6%9C%BA%E5%99%A8%E5%AD%A6%E4%B9%A0%E7%AE%97%E6%B3%95%E5%AE%9E%E8%B7%B5-%E6%A0%91%E5%9B%9E%E5%BD%92/)"
   ]
  }
 ],
 "metadata": {
  "kernelspec": {
   "display_name": "Python 3.6.10 64-bit ('tensorflow2': conda)",
   "language": "python",
   "name": "python361064bittensorflow2conda916f6dc8789a43e39b82205c8a731f83"
  },
  "language_info": {
   "codemirror_mode": {
    "name": "ipython",
    "version": 3
   },
   "file_extension": ".py",
   "mimetype": "text/x-python",
   "name": "python",
   "nbconvert_exporter": "python",
   "pygments_lexer": "ipython3",
   "version": "3.6.10"
  },
  "toc": {
   "base_numbering": 1,
   "nav_menu": {},
   "number_sections": true,
   "sideBar": true,
   "skip_h1_title": false,
   "title_cell": "Table of Contents",
   "title_sidebar": "Contents",
   "toc_cell": false,
   "toc_position": {},
   "toc_section_display": true,
   "toc_window_display": false
  }
 },
 "nbformat": 4,
 "nbformat_minor": 2
}
