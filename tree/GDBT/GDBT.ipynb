{
 "cells": [
  {
   "cell_type": "markdown",
   "metadata": {},
   "source": [
    "[toc]\n",
    "\n",
    "# GDBT python 实战"
   ]
  },
  {
   "cell_type": "markdown",
   "metadata": {},
   "source": [
    "## 代码实战"
   ]
  },
  {
   "cell_type": "markdown",
   "metadata": {
    "ExecuteTime": {
     "end_time": "2020-07-06T07:52:57.751886Z",
     "start_time": "2020-07-06T07:52:57.746643Z"
    }
   },
   "source": [
    "导入一些必要的类。由于 GDBT 用 CART 来做 base learner，这里我们直接从 sklearn 中导入。"
   ]
  },
  {
   "cell_type": "code",
   "execution_count": 1,
   "metadata": {
    "ExecuteTime": {
     "end_time": "2020-07-06T07:46:51.137512Z",
     "start_time": "2020-07-06T07:46:50.742955Z"
    }
   },
   "outputs": [],
   "source": [
    "from sklearn.tree import DecisionTreeRegressor\n",
    "from sklearn.preprocessing import OneHotEncoder\n",
    "from sklearn.datasets import load_boston, load_iris\n",
    "\n",
    "import numpy as np\n",
    "from collections import Counter"
   ]
  },
  {
   "cell_type": "markdown",
   "metadata": {},
   "source": [
    "先定义一个 Loss 类， 用来计算 loss 值和它对应的梯度"
   ]
  },
  {
   "cell_type": "code",
   "execution_count": 2,
   "metadata": {
    "ExecuteTime": {
     "end_time": "2020-07-06T07:46:51.143344Z",
     "start_time": "2020-07-06T07:46:51.138796Z"
    }
   },
   "outputs": [],
   "source": [
    "class Loss:\n",
    "    def fit(self, y, yhat):\n",
    "        pass\n",
    "    def gradient(self, y, yhat):\n",
    "        pass\n",
    "    def __call__(self, y, yhat):\n",
    "        return self.fit(y, yhat)"
   ]
  },
  {
   "cell_type": "code",
   "execution_count": 3,
   "metadata": {
    "ExecuteTime": {
     "end_time": "2020-07-06T07:46:51.151497Z",
     "start_time": "2020-07-06T07:46:51.145616Z"
    }
   },
   "outputs": [],
   "source": [
    "class MSE(Loss):\n",
    "    \"\"\"\n",
    "    对于 MSE，假设 y 和 yhat 的 shape 都是 (n_samples, )\n",
    "    \"\"\"\n",
    "    def fit(self, y, yhat):\n",
    "        return 0.5 * np.mean((y - yhat)**2)\n",
    "    \n",
    "    def gradient(self, y, yhat):\n",
    "        return yhat - y\n",
    "    \n",
    "class CrossEntropyWithLogits(Loss): \n",
    "    \"\"\"\n",
    "    对于 CrossEntropyWithLogits，我们假设 y 和 logits 的shape都是 (n_samples, n_categories)\n",
    "    \"\"\"\n",
    "    def softmax(self, x):\n",
    "        c = np.max(x, axis=0)\n",
    "        a = np.exp(x-c + 10e-4)\n",
    "        sum_a = np.sum(a, axis=0)\n",
    "        return a / sum_a\n",
    "    \n",
    "    def fit(self, y, logits):\n",
    "        output = - np.mean(np.sum(y * np.log(self.softmax(logits)), axis=0))\n",
    "        return output\n",
    "\n",
    "    def gradient(self, y, logits):\n",
    "        return logits - y"
   ]
  },
  {
   "cell_type": "code",
   "execution_count": null,
   "metadata": {},
   "outputs": [],
   "source": [
    "定义 GBDT 类来处理分类问题和回归问题。"
   ]
  },
  {
   "cell_type": "code",
   "execution_count": 4,
   "metadata": {
    "ExecuteTime": {
     "end_time": "2020-07-06T07:46:51.160561Z",
     "start_time": "2020-07-06T07:46:51.153176Z"
    }
   },
   "outputs": [],
   "source": [
    "class GBDT:\n",
    "    def __init__(self, n_estimator=3, learning_rate=0.01, regression=True, **params):\n",
    "        \"\"\"\n",
    "        n_estimator %%bash示弱分类器的数量。\n",
    "        regession: 表示是否是回归任务\n",
    "        params 是传给 base classifier 或 base regressor 的参数\n",
    "        \"\"\"\n",
    "        self.n_estimator = n_estimator\n",
    "        self.regression = regression\n",
    "        self.learning_rate = learning_rate\n",
    "        self.trees = [DecisionTreeRegressor(**params) for _ in range(self.n_estimator)]\n",
    "        self.loss = MSE() if self.regression else CrossEntropyWithLogits()\n",
    "    \n",
    "    @staticmethod\n",
    "    def majority_voting(y):\n",
    "        \"\"\"\n",
    "        param:\n",
    "            y: shape (n_samples, n_categories)\n",
    "\n",
    "        output:\n",
    "            yhat: shape=(1, n_categories)\n",
    "        \"\"\"\n",
    "        yhat = np.zeros_like(y[0])\n",
    "        majority = Counter(map(tuple, y)).most_common()\n",
    "        for val, _ in Counter(map(tuple, y)).most_common():\n",
    "            yhat += np.array(val)\n",
    "        yhat /= len(majority)\n",
    "        yhat = yhat[np.newaxis, :]\n",
    "        return yhat\n",
    "\n",
    "    def fit(self, X, y):\n",
    "        yhat = np.mean(y) if self.regression else GBDT.majority_voting(y)\n",
    "        for i in range(self.n_estimator):\n",
    "            negative_gradient = - self.loss.gradient(y, yhat)\n",
    "            self.trees[i].fit(X, negative_gradient)\n",
    "            yhat = yhat + self.learning_rate * self.trees[i].predict(X)\n",
    "    \n",
    "    def predict(self, X):\n",
    "        yhat = np.mean(y) if self.regression else GBDT.majority_voting(y)\n",
    "        for i in range(self.n_estimator):   \n",
    "            yhat = yhat + self.learning_rate * self.trees[i].predict(X)\n",
    "        return yhat"
   ]
  },
  {
   "cell_type": "markdown",
   "metadata": {},
   "source": [
    "### 测试\n",
    "\n",
    "#### 分类问题"
   ]
  },
  {
   "cell_type": "markdown",
   "metadata": {
    "ExecuteTime": {
     "end_time": "2020-07-06T07:51:42.906941Z",
     "start_time": "2020-07-06T07:51:42.903441Z"
    }
   },
   "source": [
    "使用著名的 iris 数据集进行测试"
   ]
  },
  {
   "cell_type": "code",
   "execution_count": 5,
   "metadata": {
    "ExecuteTime": {
     "end_time": "2020-07-06T07:46:51.166902Z",
     "start_time": "2020-07-06T07:46:51.162121Z"
    }
   },
   "outputs": [],
   "source": [
    "data = load_iris()\n",
    "\n",
    "X = data['data']\n",
    "y = data['target']\n",
    "y = OneHotEncoder(sparse=False).fit_transform(y[:, np.newaxis])"
   ]
  },
  {
   "cell_type": "code",
   "execution_count": 6,
   "metadata": {
    "ExecuteTime": {
     "end_time": "2020-07-06T07:46:51.176284Z",
     "start_time": "2020-07-06T07:46:51.168278Z"
    }
   },
   "outputs": [
    {
     "name": "stdout",
     "output_type": "stream",
     "text": [
      "acc:  0.6666666666666666\n"
     ]
    }
   ],
   "source": [
    "params = {\"max_depth\": 2}\n",
    "gbdt = GBDT(n_estimator=5, **params, regression=False)\n",
    "gbdt.fit(X,y)\n",
    "\n",
    "yhat = gbdt.predict(X)\n",
    "acc =  np.mean(np.argmax(y, axis=0) == np.argmax(yhat, axis=0))\n",
    "print(\"acc: \", acc)"
   ]
  },
  {
   "cell_type": "markdown",
   "metadata": {},
   "source": [
    "#### 回归问题\n",
    "\n",
    "对于回归问题来说，一个入门级的数据集就是波士顿房价数据。"
   ]
  },
  {
   "cell_type": "code",
   "execution_count": 7,
   "metadata": {
    "ExecuteTime": {
     "end_time": "2020-07-06T07:46:51.715068Z",
     "start_time": "2020-07-06T07:46:51.177402Z"
    }
   },
   "outputs": [
    {
     "data": {
      "text/plain": [
       "0.8563770138243728"
      ]
     },
     "execution_count": 7,
     "metadata": {},
     "output_type": "execute_result"
    }
   ],
   "source": [
    "data = load_boston()\n",
    "\n",
    "X = data['data']\n",
    "y = data['target']\n",
    "\n",
    "params = {\"max_depth\": 10}\n",
    "gbdt = GBDT(n_estimator=200, **params)\n",
    "gbdt.fit(X,y)\n",
    "\n",
    "yhat = gbdt.predict(X)\n",
    "MSE()(y, yhat)"
   ]
  }
 ],
 "metadata": {
  "kernelspec": {
   "display_name": "Python 3.6.10 64-bit ('tensorflow2': conda)",
   "language": "python",
   "name": "python361064bittensorflow2conda916f6dc8789a43e39b82205c8a731f83"
  },
  "language_info": {
   "codemirror_mode": {
    "name": "ipython",
    "version": 3
   },
   "file_extension": ".py",
   "mimetype": "text/x-python",
   "name": "python",
   "nbconvert_exporter": "python",
   "pygments_lexer": "ipython3",
   "version": "3.6.10"
  },
  "toc": {
   "base_numbering": 1,
   "nav_menu": {},
   "number_sections": true,
   "sideBar": true,
   "skip_h1_title": false,
   "title_cell": "Table of Contents",
   "title_sidebar": "Contents",
   "toc_cell": false,
   "toc_position": {},
   "toc_section_display": true,
   "toc_window_display": false
  }
 },
 "nbformat": 4,
 "nbformat_minor": 2
}
